{
 "cells": [
  {
   "cell_type": "markdown",
   "metadata": {},
   "source": [
    "| **Program Studi Independen TIA Academy** | **Java & Python for Data Science with BNSP Associate Data Scientist** |\n",
    "|-----------------------------|----------------------------------------------------------------------|\n",
    "| **Nama**                    | Andi Pangestu                                                        |\n",
    "| **Universitas**             | Universitas Ngudi Waluyo Semarang                                    |\n",
    "| **Kelas**                   | Bravo (malam)                                                        |\n"
   ]
  },
  {
   "cell_type": "markdown",
   "metadata": {},
   "source": [
    "## Multiple Linier Regression"
   ]
  },
  {
   "cell_type": "code",
   "execution_count": 1,
   "metadata": {},
   "outputs": [
    {
     "name": "stdout",
     "output_type": "stream",
     "text": [
      "R2 Score multiple linier regression: 0.9325 \n"
     ]
    }
   ],
   "source": [
    "# menginport semua yang dibutuhkan\n",
    "import numpy as np  \n",
    "import matplotlib.pyplot as plt  \n",
    "import pandas as pd  \n",
    "\n",
    "# Read Datasets\n",
    "datasets = pd.read_excel('Folds5x2_pp.xlsx')\n",
    "datasets.head(5)\n",
    "\n",
    "# Spliting datasets\n",
    "# X (independent var)\n",
    "# y (dependent var)\n",
    "X = datasets.iloc[:,:-1].values\n",
    "y = datasets.iloc[:,-1].values\n",
    "\n",
    "# Membagi dataset menjadi data latih dan uji (train-test split)\n",
    "from sklearn.model_selection import train_test_split \n",
    "X_train, X_test, y_train, y_test = train_test_split(X, y, test_size=0.2, random_state=0)\n",
    "\n",
    "## Training the multiple linier regression model\n",
    "from sklearn.linear_model import LinearRegression  # Model untuk regresi linear\n",
    "regressor = LinearRegression()\n",
    "regressor.fit(X_train, y_train)\n",
    "\n",
    "# Prediksi nilai pada data uji\n",
    "y_pred_multiple = regressor.predict(X_test)\n",
    "\n",
    "# Evaluasi performa model menggunakan R2 Score\n",
    "from sklearn.metrics import r2_score\n",
    "# Hitung R-squared\n",
    "r2_multiple = r2_score(y_test, y_pred_multiple)\n",
    "# Cetak hasil evaluasi\n",
    "print(f\"R2 Score multiple linier regression: {r2_multiple:.4f} \")\n"
   ]
  },
  {
   "cell_type": "markdown",
   "metadata": {},
   "source": [
    "## Polynomial linier Regression"
   ]
  },
  {
   "cell_type": "code",
   "execution_count": 2,
   "metadata": {},
   "outputs": [
    {
     "name": "stdout",
     "output_type": "stream",
     "text": [
      "R2 Score linier Regression:0.9325\n",
      "R2 Score Polynomial Regression:0.9458\n"
     ]
    }
   ],
   "source": [
    "# menginport semua yang dibutuhkan\n",
    "import numpy as np  \n",
    "import matplotlib.pyplot as plt  \n",
    "import pandas as pd  \n",
    "\n",
    "# Read Datasets\n",
    "datasets = pd.read_excel('Folds5x2_pp.xlsx')\n",
    "datasets.head(5)\n",
    "\n",
    "# Spliting datasets\n",
    "# X (independent var)\n",
    "# y (dependent var)\n",
    "X = datasets.iloc[:,:-1].values\n",
    "y = datasets.iloc[:,-1].values\n",
    "\n",
    "# Membagi dataset menjadi data latih dan uji (train-test split)\n",
    "from sklearn.model_selection import train_test_split \n",
    "X_train, X_test, y_train, y_test = train_test_split(X, y, test_size=0.2, random_state=0)\n",
    "\n",
    "# Inisialisasi dan pelatihan model linier_regresion\n",
    "from sklearn.linear_model import LinearRegression\n",
    "\n",
    "linear_model = LinearRegression()\n",
    "linear_model.fit(X_train, y_train)\n",
    "y_pred_linear = linear_model.predict(X_test)\n",
    "\n",
    "# Inisialisasi dan pelatihan model polynomial linier regresion model\n",
    "from sklearn.preprocessing import PolynomialFeatures \n",
    "# Contoh\n",
    "# linear --> X = [[2]] \n",
    "# X diubah menjadi polynomial dgn derajat = 4 / (X^4)\n",
    "# X = [[2 4 8 16]]\n",
    "poly = PolynomialFeatures(degree=4)\n",
    "X_poly_train = poly.fit_transform(X_train)\n",
    "X_poly_test = poly.transform(X_test)\n",
    "\n",
    "poly_model = LinearRegression()\n",
    "poly_model.fit(X_poly_train, y_train)\n",
    "\n",
    "# Membuat prediksi untuk Polynomial Regression\n",
    "y_pred_poly = poly_model.predict(X_poly_test) \n",
    "\n",
    "# Evaluasi performa model menggunakan R2 Score\n",
    "from sklearn.metrics import r2_score\n",
    "\n",
    "# menghitung r-square\n",
    "r2_linear = r2_score(y_test, y_pred_linear)\n",
    "r2_poly = r2_score(y_test, y_pred_poly)\n",
    "# print hasil\n",
    "print(f\"R2 Score linier Regression:{r2_linear:.4f}\")\n",
    "print(f\"R2 Score Polynomial Regression:{r2_poly:.4f}\")"
   ]
  },
  {
   "cell_type": "markdown",
   "metadata": {},
   "source": [
    "## Support Vektor Regression"
   ]
  },
  {
   "cell_type": "code",
   "execution_count": 3,
   "metadata": {},
   "outputs": [
    {
     "name": "stdout",
     "output_type": "stream",
     "text": [
      "R2 Score Support Vector Regression: 0.9481\n"
     ]
    }
   ],
   "source": [
    "# menginport semua yang dibutuhkan\n",
    "import numpy as np  \n",
    "import matplotlib.pyplot as plt  \n",
    "import pandas as pd  \n",
    "\n",
    "# Read Datasets\n",
    "datasets = pd.read_excel('Folds5x2_pp.xlsx')\n",
    "datasets.head(5)\n",
    "\n",
    "# Spliting datasets\n",
    "# X (independent var)\n",
    "# y (dependent var)\n",
    "X = datasets.iloc[:,:-1].values\n",
    "y = datasets.iloc[:,-1].values\n",
    "\n",
    "# Membagi dataset menjadi data latih dan uji (train-test split)\n",
    "from sklearn.model_selection import train_test_split \n",
    "X_train, X_test, y_train, y_test = train_test_split(X, y, test_size=0.2, random_state=0)\n",
    "\n",
    "\n",
    "# featured scaller khusus algoritma SVR\n",
    "from sklearn.preprocessing import StandardScaler\n",
    "# Membuat objek StandardScaler untuk fitur X\n",
    "scaler_X = StandardScaler()\n",
    "scaler_y = StandardScaler()\n",
    "\n",
    "X_train_scaled = scaler_X.fit_transform(X_train)\n",
    "X_test_scaled = scaler_X.transform(X_test)\n",
    "\n",
    "# Perlu reshape y agar bisa di-scaling\n",
    "y_train_scaled = scaler_y.fit_transform(y_train.reshape(-1, 1)).ravel()\n",
    "\n",
    "# Inisialisasi dan pelatihan model support vektor regresion\n",
    "from sklearn.svm import SVR\n",
    "svr_model = SVR(kernel='rbf')\n",
    "svr_model.fit(X_train_scaled, y_train_scaled)\n",
    "\n",
    "# Membuat prediksi menggunakan model SVR\n",
    "y_pred_scaled = svr_model.predict(X_test_scaled)\n",
    "\n",
    "from sklearn.metrics import r2_score\n",
    "# Mengembalikan scalling ke nilai asli\n",
    "y_pred_svr = scaler_y.inverse_transform(y_pred_scaled.reshape(-1, 1))\n",
    "# Menghitung skor R2 untuk SVR\n",
    "r2_svr = r2_score(y_test, y_pred_svr)\n",
    "print(f\"R2 Score Support Vector Regression: {r2_svr:.4f}\")"
   ]
  },
  {
   "cell_type": "markdown",
   "metadata": {},
   "source": [
    "## Decision Tree Regression"
   ]
  },
  {
   "cell_type": "code",
   "execution_count": 4,
   "metadata": {},
   "outputs": [
    {
     "name": "stdout",
     "output_type": "stream",
     "text": [
      "R2 Score Decision Tree Regression: 0.9229\n"
     ]
    }
   ],
   "source": [
    "# menginport semua yang dibutuhkan\n",
    "import numpy as np  \n",
    "import matplotlib.pyplot as plt  \n",
    "import pandas as pd  \n",
    "\n",
    "# Read Datasets\n",
    "datasets = pd.read_excel('Folds5x2_pp.xlsx')\n",
    "datasets.head(5)\n",
    "\n",
    "# Spliting datasets\n",
    "# X (independent var)\n",
    "# y (dependent var)\n",
    "X = datasets.iloc[:,:-1].values\n",
    "y = datasets.iloc[:,-1].values\n",
    "\n",
    "# Membagi dataset menjadi data latih dan uji (train-test split)\n",
    "from sklearn.model_selection import train_test_split \n",
    "X_train, X_test, y_train, y_test = train_test_split(X, y, test_size=0.2, random_state=0)\n",
    "\n",
    "# Inisialisasi dan pelatihan model Decision tree regresion\n",
    "from sklearn.tree import DecisionTreeRegressor\n",
    "tree_model = DecisionTreeRegressor(random_state=0)\n",
    "tree_model.fit(X_train, y_train)\n",
    "\n",
    "# Membuat prediksi menggunakan model Decision Tree\n",
    "y_pred_tree = tree_model.predict(X_test)\n",
    "\n",
    "# Menghitung skor R² untuk Decision Tree Regression\n",
    "from sklearn.metrics import r2_score\n",
    "r2_tree = r2_score(y_test, y_pred_tree)\n",
    "print(f\"R2 Score Decision Tree Regression: {r2_tree:.4f}\")"
   ]
  },
  {
   "cell_type": "markdown",
   "metadata": {},
   "source": [
    "## Random Forest Regression"
   ]
  },
  {
   "cell_type": "code",
   "execution_count": 5,
   "metadata": {},
   "outputs": [
    {
     "name": "stdout",
     "output_type": "stream",
     "text": [
      "R2 Score Random Forest Regression: 0.9651\n"
     ]
    }
   ],
   "source": [
    "# menginport semua yang dibutuhkan\n",
    "import numpy as np  \n",
    "import matplotlib.pyplot as plt  \n",
    "import pandas as pd  \n",
    "\n",
    "# Read Datasets\n",
    "datasets = pd.read_excel('Folds5x2_pp.xlsx')\n",
    "datasets.head(5)\n",
    "\n",
    "# Spliting datasets\n",
    "# X (independent var)\n",
    "# y (dependent var)\n",
    "X = datasets.iloc[:,:-1].values\n",
    "y = datasets.iloc[:,-1].values\n",
    "\n",
    "# Membagi dataset menjadi data latih dan uji (train-test split)\n",
    "from sklearn.model_selection import train_test_split \n",
    "X_train, X_test, y_train, y_test = train_test_split(X, y, test_size=0.2, random_state=0)\n",
    "\n",
    "# Inisialisasi dan pelatihan model support vektor regresion all datasets\n",
    "from sklearn.ensemble import RandomForestRegressor\n",
    "forest_model = RandomForestRegressor(n_estimators=100, random_state=0)\n",
    "forest_model.fit(X_train, y_train)\n",
    "\n",
    "# Membuat prediksi menggunakan model Random Forest\n",
    "y_pred_forest = forest_model.predict(X_test)\n",
    "\n",
    "# Menghitung skor R2 untuk Random Forest Regression\n",
    "from sklearn.metrics import r2_score\n",
    "r2_forest = r2_score(y_test, y_pred_forest)\n",
    "print(f\"R2 Score Random Forest Regression: {r2_forest:.4f}\")\n"
   ]
  },
  {
   "cell_type": "code",
   "execution_count": 6,
   "metadata": {},
   "outputs": [
    {
     "name": "stdout",
     "output_type": "stream",
     "text": [
      "Menampilkan semua hasil R2 Score dari masing-masing algoritma yang telah dibuat sebelumnya\n",
      "1. R2 Score Multiple Linear Regression: 0.9325\n",
      "2. R2 Score Polynomial Regression: 0.9458\n",
      "3. R2 Score Support Vector Regression: 0.9481\n",
      "4. R2 Score Decision Tree Regression: 0.9229\n",
      "5. R2 Score Random Forest Regression: 0.9651\n"
     ]
    },
    {
     "data": {
      "image/png": "[encoded data removed]",
      "text/plain": [
       "<Figure size 800x500 with 1 Axes>"
      ]
     },
     "metadata": {},
     "output_type": "display_data"
    }
   ],
   "source": [
    "import matplotlib.pyplot as plt\n",
    "from sklearn.metrics import r2_score\n",
    "\n",
    "# untuk yang pertama saya ingin menampilkan hasil hitungan untuk masing-masing algoritma yang telah dibuat\n",
    "# disini saya memasukan masing-masing variabel r2 dari masing-masing algoritma untuk kemudian di print\n",
    "r2_multiple = r2_score(y_test, y_pred_multiple)  # Linear Regression\n",
    "r2_poly = r2_score(y_test, y_pred_poly)  # Polynomial Regression\n",
    "r2_svr = r2_score(y_test, y_pred_svr)  # Support Vector Regression\n",
    "r2_tree = r2_score(y_test, y_pred_tree)  # Decision Tree Regression\n",
    "r2_forest = r2_score(y_test, y_pred_forest)  # Random Forest Regression\n",
    "\n",
    "# hasil print dari menghitung masing-masing model algoritma\n",
    "print(\"Menampilkan semua hasil R2 Score dari masing-masing algoritma yang telah dibuat sebelumnya\")\n",
    "print(f\"1. R2 Score Multiple Linear Regression: {r2_multiple:.4f}\")\n",
    "print(f\"2. R2 Score Polynomial Regression: {r2_poly:.4f}\")\n",
    "print(f\"3. R2 Score Support Vector Regression: {r2_svr:.4f}\")\n",
    "print(f\"4. R2 Score Decision Tree Regression: {r2_tree:.4f}\")\n",
    "print(f\"5. R2 Score Random Forest Regression: {r2_forest:.4f}\")\n",
    "\n",
    "# yang kedua yakni membuat dictionary dengan nilai R2 untuk setiap model\n",
    "r2_scores = {\n",
    "    'Multiple Linear Regression': r2_multiple,\n",
    "    'Polynomial Regression': r2_poly,\n",
    "    'Support Vector Regression': r2_svr,\n",
    "    'Decision Tree Regression': r2_tree,\n",
    "    'Random Forest Regression': r2_forest\n",
    "}\n",
    "\n",
    "# untuk langkah yang ketiga yaitu membuat bar chart\n",
    "plt.figure(figsize=(8,5))  # Menentukan Ukuran figure\n",
    "bars = plt.bar(r2_scores.keys(), r2_scores.values(), color=['blue', 'orange', 'purple', 'green', 'red'])\n",
    "\n",
    "# Menambahkan nilai R2 di tengah bar menggunakan looping for in\n",
    "for bar in bars:\n",
    "    # mengambil posisi x dan lebar bar\n",
    "    x_position = bar.get_x() + bar.get_width() / 2\n",
    "    y_position = bar.get_height() / 2  # Letakkan di tengah bar\n",
    "    # kemudian disini menambhkan nilai r2 di tengah-tengah bar yang ada menggunakan plt.text\n",
    "    plt.text(x_position, y_position, f'{bar.get_height():.4f}', ha='center', va='center', \n",
    "             fontsize=12, fontweight='bold', color='white')\n",
    "\n",
    "# Menambahkan judul dan label sumbu\n",
    "plt.title('R2 Score untuk masing-masing model', fontsize=14)\n",
    "plt.xlabel('Regression Model', fontsize=12)\n",
    "plt.ylabel('R2 Score', fontsize=12)\n",
    "plt.ylim(0, 1)  # Rentang nilai R2\n",
    "plt.xticks(rotation=15)  # Rotasi label sumbu x agar lebih jelas\n",
    "plt.tight_layout()  # Menata layout agar tidak terpotong\n",
    "\n",
    "# Menampilkan grafik\n",
    "plt.show()\n"
   ]
  }
 ],
 "metadata": {
  "kernelspec": {
   "display_name": "Python 3",
   "language": "python",
   "name": "python3"
  },
  "language_info": {
   "codemirror_mode": {
    "name": "ipython",
    "version": 3
   },
   "file_extension": ".py",
   "mimetype": "text/x-python",
   "name": "python",
   "nbconvert_exporter": "python",
   "pygments_lexer": "ipython3",
   "version": "3.12.3"
  }
 },
 "nbformat": 4,
 "nbformat_minor": 2
}
